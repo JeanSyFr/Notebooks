{
 "cells": [
  {
   "cell_type": "markdown",
   "metadata": {
    "collapsed": false
   },
   "source": [
    "# Graphes et outils logiques  Projet Python - Les labyrinthes\n",
    "Jean ARBACHE - DL Math-Info Groupe A2"
   ]
  },
  {
   "cell_type": "code",
   "execution_count": 0,
   "metadata": {
    "collapsed": false
   },
   "outputs": [
   ],
   "source": [
   ]
  },
  {
   "cell_type": "markdown",
   "metadata": {
    "collapsed": false
   },
   "source": [
    "##### Questions n'ont pas été faits \n",
    "   B0(partielement fait) -  B3 - B5'\n",
    "            \n",
    "*******          \n",
    "*B0 ->\n",
    "              J'ai réussi à extraire de laby les informations important (les endroits où dit s'il y a des mures ou non) dans la fonction  'decompress'  et du coup j'ai enlevé tous les 0 et 1 qui se répetent toujours s'il y avait des mures ou non. Mais pour le decompresser il fait un erreur(Il y a des explicationsencore dans le code )\n",
    "            \n",
    "            \n",
    "*B3 ->\n",
    "              L'idée pour moi est clair mais j'ai preferé de faire autre fonction pour avancer\n",
    "            \n",
    "*B5' ->\n",
    "              j'ai comris ce q'il fait mais j'ai pas eu le temps de coder je vais vous donner un exemple ,qui peut être vrai si j'ai bien compris, c'est toujours mieux que rien\n",
    "              \n",
    "              \n",
    "      le chemin:\n",
    "                [(5, 9), (3, 9), (1, 9), (1, 7), (3, 7), (3, 5), (5, 5)]\n",
    "      devient:\n",
    "                [(5, 9), (1, 9), (1, 7), (3, 7), (3, 5), (5, 5)]\n",
    "     parce que (5, 9), (3, 9), (1, 9) est un coridor donc le debut de coridor point vers la fin et pas besoin de pointer vers chaque tuile cela va être plus efficace quand le laby  est plus grand  \n",
    "                \n",
    "      le chemin:\n",
    "                [(1, 1), (3, 1), (5, 1), (5, 3), (5, 5)]\n",
    "      devient:\n",
    "                [(1, 1), (5, 1), (5, 3), (5, 5)] parce que ( [(1, 1), (3, 1), (5, 1) est un coridor \n",
    "                \n",
    "\n",
    "********\n",
    "\n",
    "********\n",
    "\n",
    "##### Petite remarque: \n",
    "Quand il y a une ameliartion demandée les fonctions écrites sont directements la versions ameliorées je n'ai pas gardé les  anciennes, du coup il y aura pas deux fonctions une avant l'ameliartion et une après l'ameliartion il y aura juste la fonction ameliorée. Donc il y a une fonction affiche qui est déja ameliorée et une algorithme union-find qui est déja optimisée et une fonction résout qui resout les deux types de labyrinthe et quand c'est imparfait elle trouve le plus court chemin\n",
    "\n",
    "***********\n",
    "\n",
    "#### Difficultés rencontrés\n",
    "Juste le début j'ai pris plein du temps à comprendre ce qu'on doit faire et puis la fonction affiche amilioré m'a pris le plus de temps avec la fonction compress aussi"
   ]
  },
  {
   "cell_type": "code",
   "execution_count": 1,
   "metadata": {
    "collapsed": false
   },
   "outputs": [
   ],
   "source": [
    "#pour l'affichage\n",
    "import sys\n",
    "write = sys.stdout.write"
   ]
  },
  {
   "cell_type": "markdown",
   "metadata": {
    "collapsed": false
   },
   "source": [
    "##### VARIABLES GLOBLAES"
   ]
  },
  {
   "cell_type": "code",
   "execution_count": 2,
   "metadata": {
    "collapsed": false
   },
   "outputs": [
   ],
   "source": [
    "#Dimension de laby\n",
    "lrg=5\n",
    "lr=5\n",
    "ht=3"
   ]
  },
  {
   "cell_type": "code",
   "execution_count": 3,
   "metadata": {
    "collapsed": false
   },
   "outputs": [
   ],
   "source": [
    "#Ensemble de laby pour aider a coder\n",
    "\n",
    "#une tuile\n",
    "l=[[1,1,1],\n",
    "   [1,0,1],\n",
    "   [1,1,1]]\n",
    "\n",
    "#laby de l'enoncé\n",
    "l2=[[1,1,1,1,1,1,1,1,1,1,1],\n",
    "   [1,0,0,0,1,0,0,0,0,0,1],\n",
    "   [1,1,1,0,1,0,1,1,1,0,1],\n",
    "   [1,0,1,0,0,0,0,0,1,0,1],\n",
    "   [1,0,1,1,1,1,1,0,1,1,1],\n",
    "   [1,0,0,0,0,0,0,0,0,0,1],\n",
    "   [1,1,1,1,1,0,1,1,1,1,1]]\n",
    "\n",
    "#laby n'importe quoi\n",
    "l3=[[1,1,1,1,1,1,1,1,1,1,1],\n",
    "   [1,1,1,1,1,1,1,1,1,1,1],\n",
    "   [1,1,1,1,1,1,1,1,1,1,1],\n",
    "   [1,1,1,1,1,1,1,1,1,1,1],\n",
    "   [1,1,1,1,1,1,1,1,1,1,1],\n",
    "   [1,1,1,1,1,1,1,1,1,1,1],\n",
    "   [1,1,1,1,1,1,1,1,1,1,1]]"
   ]
  },
  {
   "cell_type": "markdown",
   "metadata": {
    "collapsed": false
   },
   "source": [
    "##### Fonction d'affichage ameliorer\n"
   ]
  },
  {
   "cell_type": "code",
   "execution_count": 4,
   "metadata": {
    "collapsed": false
   },
   "outputs": [
   ],
   "source": [
    "def affiche(l2):\n",
    "    for y in range(len(l2)):\n",
    "        for x in range(len(l2[y])):\n",
    "            if(((y%2)!=0) and ((x%2)!=0)):\n",
    "                write('  ')\n",
    "            elif(((y%2)==0) and ((x%2)==0)):\n",
    "                if( (x-1)>0 and (x+2)<len(l2[y]) and ( (l2[y][x-1]==1) and ((l2[y][x+1]==1)) )):\n",
    "                    if( ( (y-1)>0 and l2[y-1][x]==1 ) or ( (y+2)<len(l2) and l2[y+1][x]==1 ) ):\n",
    "                        write('+')\n",
    "                    else:\n",
    "                        write('-')\n",
    "                elif( (y-1)>0 and (y+2)<len(l2) and ( (l2[y-1][x]==1) and ((l2[y+1][x]==1)) )  ):\n",
    "                    if( ( (x-1)>0 and l2[y][x-1]==1 ) or ( (x+2)<len(l2[y]) and l2[y][x+1]==1 ) ):\n",
    "                        write('+')\n",
    "                    else:\n",
    "                        write('|')\n",
    "                else:\n",
    "                    write('+')\n",
    "            elif (((y%2)!=0) and ((x%2)==0)):\n",
    "                if l2[y][x]==1:\n",
    "                    write('|')\n",
    "                else:\n",
    "                     write(' ')\n",
    "            elif (((y%2)==0) and ((x%2)!=0)):\n",
    "                if l2[y][x]==1:\n",
    "                    write('--')\n",
    "                else:\n",
    "                     write('  ')\n",
    "        print('')"
   ]
  },
  {
   "cell_type": "code",
   "execution_count": 5,
   "metadata": {
    "collapsed": false
   },
   "outputs": [
    {
     "name": "stdout",
     "output_type": "stream",
     "text": [
      "+-----+--------+\n",
      "|     |        |\n",
      "+--+  +  +--+  |\n",
      "|  |        |  |\n",
      "|  +-----+  +--+\n",
      "|              |\n",
      "+-----+  +-----+\n"
     ]
    }
   ],
   "source": [
    "affiche(l2)"
   ]
  },
  {
   "cell_type": "markdown",
   "metadata": {
    "collapsed": false
   },
   "source": [
    "##### Explication de compression\n",
    "***\n",
    "L'idée principale de compression c'est d'enlever tous les 0,1 qui sont répétés et qui ne donnent aucun renseginment partilculaires sur le labirainthes (par exemples les coins qui sont oujours des 1 et les milieu de chaque case 'les tuile' qui sont toujours 0)\n",
    "######\n",
    " fonction compress --> réussi elle retourne juste les informations sur les murs \n",
    "######\n",
    "   fonction decompress --> pas réussi totalement \n",
    "######\n",
    "le but et de compresser le labyrinth et dans le fonction affiche le décompressé avant l'afficher\n",
    "***"
   ]
  },
  {
   "cell_type": "code",
   "execution_count": 6,
   "metadata": {
    "collapsed": false
   },
   "outputs": [
   ],
   "source": [
    "def compress(l2):\n",
    "    l=[]\n",
    "    for y in range(1,len(l2)-1):\n",
    "        ll=[]\n",
    "        for x in range(1,len(l2[y])-1):\n",
    "            if( y%2==0 and x%2!=0) or (x%2==0 and y%2!=0):\n",
    "                ll.append(l2[y][x])\n",
    "        l.append(ll)\n",
    "    return l\n"
   ]
  },
  {
   "cell_type": "code",
   "execution_count": 7,
   "metadata": {
    "collapsed": false
   },
   "outputs": [
    {
     "data": {
      "text/plain": [
       "[[0, 1, 0, 0], [1, 0, 0, 1, 0], [1, 0, 0, 1], [0, 1, 1, 0, 1], [0, 0, 0, 0]]"
      ]
     },
     "execution_count": 7,
     "metadata": {
     },
     "output_type": "execute_result"
    }
   ],
   "source": [
    "compress(l2)"
   ]
  },
  {
   "cell_type": "code",
   "execution_count": 8,
   "metadata": {
    "collapsed": false
   },
   "outputs": [
   ],
   "source": [
    "def decompress(lc):\n",
    "    ht= (len(lc)+1)/2\n",
    "    lr = max(len(lc[1]), len(lc[0]))\n",
    "    l=[]\n",
    "    for y in range( ( ht )*2 + 1 ):\n",
    "        ll=[]\n",
    "        for x in range( ( lr )*2 + 1 ):\n",
    "            if(x==0 or y==0 or x==( lr )*2 or y==( ht )*2): #or ((y)%2==0  and x%2==0) ):\n",
    "                ll.append(1)\n",
    "            elif(x%2!=0 and y%2!=0):\n",
    "                ll.append(0)\n",
    "            else:\n",
    "                ll.append(1)\n",
    "        l.append(ll)\n",
    "    for y in range(1, ( ht )*2):\n",
    "        for x in range(1, ( lr )*2):\n",
    "            if( y%2==0 and x%2!=0):\n",
    "                l[x][y]=lc[int(y/2)][int(x/2)]\n",
    "            if((x%2==0 and y%2!=0)):\n",
    "                l[x][y]=lc[int(y/2)][int((x-2)/2)]\n",
    "    return l"
   ]
  },
  {
   "cell_type": "code",
   "execution_count": 9,
   "metadata": {
    "collapsed": false
   },
   "outputs": [
   ],
   "source": [
    "#cette fonction devrait afficher l2 l'orginal mais elle plante\n",
    "#decompress(compress(l2))"
   ]
  },
  {
   "cell_type": "code",
   "execution_count": 10,
   "metadata": {
    "collapsed": false
   },
   "outputs": [
   ],
   "source": [
    "#transdormer la representation binaire à la linaire\n",
    "def encode(h,l,y,x):\n",
    "    if((y*l+x<h*l) and y<h and x<l):\n",
    "        return y*l+x\n",
    "    else:\n",
    "        return -1"
   ]
  },
  {
   "cell_type": "code",
   "execution_count": 11,
   "metadata": {
    "collapsed": false
   },
   "outputs": [
   ],
   "source": [
    "#transdormer la representation lineare à la binaire\n",
    "def decode(h,l,v):\n",
    "    x=v%l\n",
    "    y=(v-v%l)/l\n",
    "    if(x<0 or y<0 or x>=l and y>=h):\n",
    "        return -1\n",
    "    return (y,x)"
   ]
  },
  {
   "cell_type": "code",
   "execution_count": 12,
   "metadata": {
    "collapsed": false
   },
   "outputs": [
   ],
   "source": [
    "#teste de deux fonction encode & decode\n",
    "def testEn_De_Code():\n",
    "    for y in range(ht):\n",
    "        for x in range(lrg):\n",
    "            if (y,x) != decode(ht,lrg,encode(ht,lrg,y,x)) or encode(ht,lrg,y,x) ==-1:\n",
    "                print(\"Erreur\")\n",
    "    print(\"Bon\")"
   ]
  },
  {
   "cell_type": "code",
   "execution_count": 13,
   "metadata": {
    "collapsed": false
   },
   "outputs": [
    {
     "name": "stdout",
     "output_type": "stream",
     "text": [
      "Bon\n"
     ]
    }
   ],
   "source": [
    "testEn_De_Code()"
   ]
  },
  {
   "cell_type": "markdown",
   "metadata": {
    "collapsed": false
   },
   "source": [
    "##### \"\"AlGORITHME QUICK-FIND\"\"\n",
    "\n",
    "C'est le même principe de l'ameliartion Compression des chemins que vous avez proposé mais c'est son nom sur le refrence où je le trouver sur Internet (Algorithms, 4th Edition  by  Robert Sedgewick)\n",
    "http://www.albertstam.com/Algorithms.pdf\n",
    "\n",
    "##### J'ai choisit cette amelioration pour ces raisons:\n",
    "###### 1- Cet Algo est plus adapté pour la fonction genere parce que le nombre d'appele de fonction find est toujours superieur ou égal à nbr d'appel de union. Du coup cela sera plus efficace de faire un find plus rapid\n",
    "###### 2- Dans cette Version on a toujours des arbres de hauteur maximal 1 parce que les sommets pointent directement vers le racine\n",
    "###### 3- Find est de complixité constante O(1)\n",
    "###### 4-La seul point négatif c'est union qui est de complixité linéaire O(n)\n"
   ]
  },
  {
   "cell_type": "code",
   "execution_count": 14,
   "metadata": {
    "collapsed": false
   },
   "outputs": [
   ],
   "source": [
    "#initialisation de fôret\n",
    "def init(n):\n",
    "    return range(n)"
   ]
  },
  {
   "cell_type": "code",
   "execution_count": 15,
   "metadata": {
    "collapsed": false
   },
   "outputs": [
   ],
   "source": [
    "#return le racine\n",
    "def find(t,v):\n",
    "    return t[v]"
   ]
  },
  {
   "cell_type": "code",
   "execution_count": 16,
   "metadata": {
    "collapsed": false
   },
   "outputs": [
   ],
   "source": [
    "#test si deux éléments sont connectée <=> dans même arbre <=> ayant le même racine <=> il y a un chemin entre les deux\n",
    "def connected(t,v1,v2):\n",
    "    return t[v1]==t[v2]"
   ]
  },
  {
   "cell_type": "code",
   "execution_count": 17,
   "metadata": {
    "collapsed": false
   },
   "outputs": [
   ],
   "source": [
    "#ensemble d'equivalence d'un sommet <=> ensemble des éléments connctées <=> les sommets vers le quel il existe un chemin de sommet donné v\n",
    "def ensConx(t,v):\n",
    "    ensConx=[]\n",
    "    for i in range(len(t)):\n",
    "        if find(t,v) == find(t,i) :\n",
    "            ensConx.append(i)\n",
    "    return ensConx"
   ]
  },
  {
   "cell_type": "code",
   "execution_count": 18,
   "metadata": {
    "collapsed": false
   },
   "outputs": [
   ],
   "source": [
    "#Connecter deux sommets en regroupent leur ensemble d'equivlenc <=> fusionner les deux arbres contenat v1 v2\n",
    "def union(t,v1,v2):\n",
    "    if(t[v1]!=t[v2]):\n",
    "        r1= t[v1]\n",
    "        r2= t[v2]\n",
    "        for i in range(len(t)):\n",
    "            if(t[i]==r1):\n",
    "                t[i]=r2\n",
    "    else:\n",
    "        print(\"Already connected elements 'A cercle is created'\")\n",
    "        print(v1,v2)"
   ]
  },
  {
   "cell_type": "code",
   "execution_count": 19,
   "metadata": {
    "collapsed": false
   },
   "outputs": [
   ],
   "source": [
    "#return True si le graphe est connexe, False sinon\n",
    "def estConnex(t):\n",
    "    for i in range(1,len(t)):\n",
    "        if(t[i]!=t[i-1]):\n",
    "            return False\n",
    "    return True"
   ]
  },
  {
   "cell_type": "code",
   "execution_count": 20,
   "metadata": {
    "collapsed": false
   },
   "outputs": [
   ],
   "source": [
    "import random"
   ]
  },
  {
   "cell_type": "code",
   "execution_count": 21,
   "metadata": {
    "collapsed": false
   },
   "outputs": [
   ],
   "source": [
    "#return ensemble de voisins  alèatoire de sommet en y, x sans ordre c.a.d chaque fois ensemble different\n",
    "def Unvoisins(ht,lr, y,x):\n",
    "    l=[]\n",
    "    if(y>0):\n",
    "        l.append(encode(ht,lr,y-1,x))\n",
    "    if(x>0):\n",
    "        l.append(encode(ht,lr,y,x-1))\n",
    "    if(y<(ht-1)):\n",
    "        l.append( encode(ht,lr,y+1,x))\n",
    "    if(x<(lr-1)):\n",
    "        l.append( encode(ht,lr,y,x+1))\n",
    "    shuffle(l)\n",
    "    return l"
   ]
  },
  {
   "cell_type": "markdown",
   "metadata": {
    "collapsed": false
   },
   "source": [
    "###### le technique utilsé pour savoir si la fonction \"uninion\" fait un cercle c'est de savoir si le graphe est connexe c.a.d si elle est connexe elle va forcement connecter deux elements qui sont déja connéctée donc dans plus part de cas on va tomber sur un cercle"
   ]
  },
  {
   "cell_type": "code",
   "execution_count": 22,
   "metadata": {
    "collapsed": false
   },
   "outputs": [
   ],
   "source": [
    "#Genere un labyrinthe parfait\n",
    "def genere(ht,lr,ys,xs):\n",
    "    l=[]\n",
    "    n= ht*lr\n",
    "    t = init(n)\n",
    "    psl= range(n)\n",
    "    shuffle(psl)\n",
    "    possible_choises = set(psl)\n",
    "    for y in range(2*ht+1):\n",
    "        ll=[]\n",
    "        for x in range(2*lr+1):\n",
    "            if (((y%2)!=0) and ((x%2)!=0)):\n",
    "                ll.append(0)\n",
    "            else:\n",
    "                ll.append(1)\n",
    "        l.append(ll)\n",
    "    while(not estConnex(t)):\n",
    "        shuffle(psl)\n",
    "        c1 = psl[0]  #choix aléatoire\n",
    "        (y1,x1)= decode(ht,lr,c1)\n",
    "        ensVoisins=Unvoisins(ht,lr, y1,x1)\n",
    "        c2 = ensVoisins[0]\n",
    "        (y2,x2) = decode(ht,lr,c2)\n",
    "        if not(connected(t,c1,c2)):\n",
    "            union(t,c1,c2)\n",
    "            if y1==y2:\n",
    "                l[2*y1+1][x1+x2+1]=0\n",
    "            elif x1==x2:\n",
    "                l[y1+y2+1][2*x1+1]=0\n",
    "    l[2*ys+2][2*xs+1]=0\n",
    "    return l"
   ]
  },
  {
   "cell_type": "code",
   "execution_count": 23,
   "metadata": {
    "collapsed": false
   },
   "outputs": [
   ],
   "source": [
    "laby=genere(3,5,2,2)"
   ]
  },
  {
   "cell_type": "code",
   "execution_count": 24,
   "metadata": {
    "collapsed": false
   },
   "outputs": [
    {
     "name": "stdout",
     "output_type": "stream",
     "text": [
      "+-----+--------+\n",
      "|     |        |\n",
      "|  +--+--+--+  |\n",
      "|        |     |\n",
      "+--+  +--+--+  |\n",
      "|              |\n",
      "+-----+  +-----+\n"
     ]
    }
   ],
   "source": [
    "affiche(laby)"
   ]
  },
  {
   "cell_type": "markdown",
   "metadata": {
    "collapsed": false
   },
   "source": [
    "###### Cette fonction fait un laby pas parfait qui contient 'cr' cycles\n",
    "En plus elle affiche les lieu où les cercles ont étés crées"
   ]
  },
  {
   "cell_type": "code",
   "execution_count": 25,
   "metadata": {
    "collapsed": false
   },
   "outputs": [
   ],
   "source": [
    "def genereImparfait(ht,lr,ys,xs,cr):\n",
    "    l=[]\n",
    "    n= ht*lr\n",
    "    t = init(n)\n",
    "    psl= range(n)\n",
    "    shuffle(psl)\n",
    "    possible_choises = set(psl)\n",
    "    for y in range(2*ht+1):\n",
    "        ll=[]\n",
    "        for x in range(2*lr+1):\n",
    "            if (((y%2)!=0) and ((x%2)!=0)):\n",
    "                ll.append(0)\n",
    "            else:\n",
    "                ll.append(1)\n",
    "        l.append(ll)\n",
    "    while(not estConnex(t) or cr>0 ):\n",
    "        shuffle(psl)\n",
    "        c1 = psl[0]  #choix aléatoire\n",
    "        (y1,x1)= decode(ht,lr,c1)\n",
    "        ensVoisins=Unvoisins(ht,lr, y1,x1)\n",
    "        c2 = ensVoisins[0]\n",
    "        (y2,x2) = decode(ht,lr,c2)\n",
    "        if not(connected(t,c1,c2)):\n",
    "            union(t,c1,c2)\n",
    "            if y1==y2:\n",
    "                l[2*y1+1][x1+x2+1]=0\n",
    "            elif x1==x2:\n",
    "                l[y1+y2+1][2*x1+1]=0\n",
    "        elif (connected(t,c1,c2)) and cr>0 and ((x1!=x2 and y1==y2 and l[2*y1+1][x1+x2+1]!=0 ) or (x1==x2 and y1!=y2 and l[y1+y2+1][2*x1+1]!=0)) :\n",
    "            union(t,c1,c2)\n",
    "            cr-=1\n",
    "            if y1==y2:\n",
    "                l[2*y1+1][x1+x2+1]=0\n",
    "            elif x1==x2:\n",
    "                l[y1+y2+1][2*x1+1]=0\n",
    "    l[2*ys+2][2*xs+1]=0\n",
    "    return l"
   ]
  },
  {
   "cell_type": "code",
   "execution_count": 26,
   "metadata": {
    "collapsed": false
   },
   "outputs": [
    {
     "name": "stdout",
     "output_type": "stream",
     "text": [
      "Already connected elements 'A cercle is created'\n",
      "(1, 6)\n"
     ]
    },
    {
     "name": "stdout",
     "output_type": "stream",
     "text": [
      "Already connected elements 'A cercle is created'\n",
      "(10, 11)\n",
      "+--------+-----+\n",
      "|        |     |\n",
      "+--+  +  +  +  |\n",
      "|           |  |\n",
      "|  +  +  +--+  |\n",
      "|     |     |  |\n",
      "+-----+  +--+--+\n"
     ]
    }
   ],
   "source": [
    "#Ici elle va afficher les coordonnées où la cercle a été construit\n",
    "labyIm=genereImparfait(3,5,2,2,2)\n",
    "affiche(labyIm)"
   ]
  },
  {
   "cell_type": "markdown",
   "metadata": {
    "collapsed": false
   },
   "source": [
    "### RESOLUTION"
   ]
  },
  {
   "cell_type": "code",
   "execution_count": 27,
   "metadata": {
    "collapsed": false
   },
   "outputs": [
   ],
   "source": [
    "#Fonction qui renvoie les coordonées (y,x) voisin dans la labyrinthe\n",
    "def UnvoisinsXY(ht,lr, y,x):\n",
    "    y = (y-1)/2\n",
    "    x = (x-1)/2\n",
    "    l=[]\n",
    "    if(y>0):\n",
    "        l.append(((y-1)*2+1,x*2+1))\n",
    "    if(x>0):\n",
    "        l.append((y*2+1,(x-1)*2+1))\n",
    "    if(y<(ht-1)):\n",
    "        l.append(((y+1)*2+1,x*2+1))\n",
    "    if(x<(lr-1)):\n",
    "        l.append((y*2+1,(x+1)*2+1))\n",
    "    return l"
   ]
  },
  {
   "cell_type": "code",
   "execution_count": 28,
   "metadata": {
    "collapsed": false
   },
   "outputs": [
    {
     "data": {
      "text/plain": [
       "[(3, 5), (5, 3), (5, 7)]"
      ]
     },
     "execution_count": 28,
     "metadata": {
     },
     "output_type": "execute_result"
    }
   ],
   "source": [
    "UnvoisinsXY(ht,lr, 5,5)"
   ]
  },
  {
   "cell_type": "markdown",
   "metadata": {
    "collapsed": false
   },
   "source": [
    "###### La fonction de resoudre le labyrithe\n",
    "elle crée un dictionnaire dont les clés sont les cases de labyrinthe et chaque clé point vers le tuile suivant pour arrivé à la sortie\n",
    "Si le labyrinthe n'est pas parfait elle trouve le plus court chemin aussi. Du coup elle fonctionne pour les deux labyrinth"
   ]
  },
  {
   "cell_type": "code",
   "execution_count": 29,
   "metadata": {
    "collapsed": false
   },
   "outputs": [
   ],
   "source": [
    "def resout(laby):\n",
    "    #coordonnées de sortie\n",
    "    (sy,sx) = (5,5)\n",
    "\n",
    "    #creer un dictionnaire\n",
    "    ht=int(len(laby)/2)\n",
    "    lr=int(len(laby[0])/2)\n",
    "    dic= {}\n",
    "    for y in range(2*ht+1):\n",
    "            for x in range(2*lr+1):\n",
    "                if (((y%2)!=0) and ((x%2)!=0)):\n",
    "                    dic[(y,x)]= None\n",
    "\n",
    "    #creer les chemins\n",
    "    lst=[(sy,sx)]\n",
    "    while len(lst)>0:\n",
    "        nxtl = []\n",
    "        for i in lst:\n",
    "            (y,x)=i\n",
    "            voisinsXY =UnvoisinsXY(ht,lr, y,x)\n",
    "            for v in voisinsXY:\n",
    "                (yv,xv) = v\n",
    "                if (v!=(sy,sx)) and (dic[v])==None:\n",
    "                    if y==yv and laby[y][(x+xv)/2]==0:\n",
    "                        dic[v]=(i)\n",
    "                        nxtl.append(v)\n",
    "                    elif x==xv and laby[(y+yv)/2][x]==0:\n",
    "                        dic[v]=(i)\n",
    "                        nxtl.append(v)\n",
    "        lst= nxtl\n",
    "    return dic"
   ]
  },
  {
   "cell_type": "code",
   "execution_count": 30,
   "metadata": {
    "collapsed": false
   },
   "outputs": [
    {
     "data": {
      "text/plain": [
       "{(1, 1): (3, 1),\n",
       " (1, 3): (1, 1),\n",
       " (1, 5): (1, 7),\n",
       " (1, 7): (1, 9),\n",
       " (1, 9): (3, 9),\n",
       " (3, 1): (3, 3),\n",
       " (3, 3): (5, 3),\n",
       " (3, 5): (3, 3),\n",
       " (3, 7): (3, 9),\n",
       " (3, 9): (5, 9),\n",
       " (5, 1): (5, 3),\n",
       " (5, 3): (5, 5),\n",
       " (5, 5): None,\n",
       " (5, 7): (5, 5),\n",
       " (5, 9): (5, 7)}"
      ]
     },
     "execution_count": 30,
     "metadata": {
     },
     "output_type": "execute_result"
    }
   ],
   "source": [
    "(resout(laby))"
   ]
  },
  {
   "cell_type": "code",
   "execution_count": 31,
   "metadata": {
    "collapsed": false,
    "scrolled": true
   },
   "outputs": [
   ],
   "source": [
    "#cette fonction construit le chemin de (y,x) vert la sortie (sy,sx)\n",
    "#Le chemin commence par le sommet(tuile) de coordonnées (y,x) jusqu'à la sortie (sy,sx) et contenant les sommets parcourus\n",
    "def reconstruit_chemin(plan, y,x):\n",
    "    l=[(y,x)]\n",
    "    while plan[(y,x)]!=None:\n",
    "        l.append(plan[(y,x)])\n",
    "        (y,x)= plan[(y,x)]\n",
    "    return l"
   ]
  },
  {
   "cell_type": "markdown",
   "metadata": {
    "collapsed": false
   },
   "source": [
    "##### \n",
    "ces deux fonction resumeParfait et resumeImparfait  resument tous ce que j'ai fait avant donc elle genere un laby parfait et un autre imparfait et resoudre les deux laby par afficher les chemins de chauque tuile vers la sortie et quand le laby est imparfait elle fait le plus court chemin\n",
    "Ces deux fonction n'a rien avoir la question B6'"
   ]
  },
  {
   "cell_type": "code",
   "execution_count": 32,
   "metadata": {
    "collapsed": false
   },
   "outputs": [
   ],
   "source": [
    "def resumeParfait():\n",
    "    print(\"Bienvenue dans mon labyrinthe parfait\")\n",
    "    laby=genere(3,5,2,2)\n",
    "    affiche(laby)\n",
    "    plan = resout(laby)\n",
    "    for y in range(ht):\n",
    "        for x in range(lr):\n",
    "            print\"Le chemin de tuile\", (2*y+1,2*x+1), \" est \", reconstruit_chemin(plan,2*y+1,2*x+1)\n",
    "    return"
   ]
  },
  {
   "cell_type": "code",
   "execution_count": 33,
   "metadata": {
    "collapsed": false
   },
   "outputs": [
    {
     "name": "stdout",
     "output_type": "stream",
     "text": [
      "Bienvenue dans mon labyrinthe parfait\n",
      "+-----+--------+\n",
      "|     |        |\n",
      "|  +  +  +--+  |\n",
      "|  |     |     |\n",
      "|  +--+--+--+  |\n",
      "|     |        |\n",
      "+-----+  +-----+\n",
      "Le chemin de tuile (1, 1)  est  [(1, 1), (1, 3), (3, 3), (3, 5), (1, 5), (1, 7), (1, 9), (3, 9), (5, 9), (5, 7), (5, 5)]\n",
      "Le chemin de tuile (1, 3)  est  [(1, 3), (3, 3), (3, 5), (1, 5), (1, 7), (1, 9), (3, 9), (5, 9), (5, 7), (5, 5)]\n",
      "Le chemin de tuile (1, 5)  est  [(1, 5), (1, 7), (1, 9), (3, 9), (5, 9), (5, 7), (5, 5)]\n",
      "Le chemin de tuile (1, 7)  est  [(1, 7), (1, 9), (3, 9), (5, 9), (5, 7), (5, 5)]\n",
      "Le chemin de tuile (1, 9)  est  [(1, 9), (3, 9), (5, 9), (5, 7), (5, 5)]\n",
      "Le chemin de tuile (3, 1)  est  [(3, 1), (1, 1), (1, 3), (3, 3), (3, 5), (1, 5), (1, 7), (1, 9), (3, 9), (5, 9), (5, 7), (5, 5)]\n",
      "Le chemin de tuile (3, 3)  est  [(3, 3), (3, 5), (1, 5), (1, 7), (1, 9), (3, 9), (5, 9), (5, 7), (5, 5)]\n",
      "Le chemin de tuile (3, 5)  est  [(3, 5), (1, 5), (1, 7), (1, 9), (3, 9), (5, 9), (5, 7), (5, 5)]\n",
      "Le chemin de tuile (3, 7)  est  [(3, 7), (3, 9), (5, 9), (5, 7), (5, 5)]\n",
      "Le chemin de tuile (3, 9)  est  [(3, 9), (5, 9), (5, 7), (5, 5)]\n",
      "Le chemin de tuile (5, 1)  est  [(5, 1), (3, 1), (1, 1), (1, 3), (3, 3), (3, 5), (1, 5), (1, 7), (1, 9), (3, 9), (5, 9), (5, 7), (5, 5)]\n",
      "Le chemin de tuile (5, 3)  est  [(5, 3), (5, 1), (3, 1), (1, 1), (1, 3), (3, 3), (3, 5), (1, 5), (1, 7), (1, 9), (3, 9), (5, 9), (5, 7), (5, 5)]\n",
      "Le chemin de tuile (5, 5)  est  [(5, 5)]\n",
      "Le chemin de tuile (5, 7)  est  [(5, 7), (5, 5)]\n",
      "Le chemin de tuile (5, 9)  est  [(5, 9), (5, 7), (5, 5)]\n"
     ]
    }
   ],
   "source": [
    "resumeParfait()"
   ]
  },
  {
   "cell_type": "code",
   "execution_count": 0,
   "metadata": {
    "collapsed": false
   },
   "outputs": [
   ],
   "source": [
   ]
  },
  {
   "cell_type": "code",
   "execution_count": 34,
   "metadata": {
    "collapsed": false
   },
   "outputs": [
   ],
   "source": [
    "def resumeImparfait(n):\n",
    "    print(\"Bienvenue dans mon labyrinthe imparfait\")\n",
    "    laby=genereImparfait(3,5,2,2,n)\n",
    "    affiche(laby)\n",
    "    plan = resout(laby)\n",
    "    for y in range(ht):\n",
    "        for x in range(lr):\n",
    "            print\"Le chemin de tuile\", (2*y+1,2*x+1), \" est \", reconstruit_chemin(plan,2*y+1,2*x+1)\n",
    "    return"
   ]
  },
  {
   "cell_type": "code",
   "execution_count": 35,
   "metadata": {
    "collapsed": false
   },
   "outputs": [
    {
     "name": "stdout",
     "output_type": "stream",
     "text": [
      "Bienvenue dans mon labyrinthe imparfait\n",
      "Already connected elements 'A cercle is created'\n",
      "(1, 6)\n",
      "Already connected elements 'A cercle is created'\n",
      "(13, 8)\n",
      "Already connected elements 'A cercle is created'\n",
      "(2, 7)\n",
      "+--+-----------+\n",
      "|  |           |\n",
      "|  |  +  +  +  |\n",
      "|  |     |  |  |\n",
      "|  +  +--+"
     ]
    },
    {
     "name": "stdout",
     "output_type": "stream",
     "text": [
      "  +  |\n",
      "|              |\n",
      "+-----+  +-----+\n",
      "Le chemin de tuile (1, 1)  est  [(1, 1), (3, 1), (5, 1), (5, 3), (5, 5)]\n",
      "Le chemin de tuile (1, 3)  est  [(1, 3), (3, 3), (5, 3), (5, 5)]\n",
      "Le chemin de tuile (1, 5)  est  [(1, 5), (1, 3), (3, 3), (5, 3), (5, 5)]\n",
      "Le chemin de tuile (1, 7)  est  [(1, 7), (3, 7), (5, 7), (5, 5)]\n",
      "Le chemin de tuile (1, 9)  est  [(1, 9), (1, 7), (3, 7), (5, 7), (5, 5)]\n",
      "Le chemin de tuile (3, 1)  est  [(3, 1), (5, 1), (5, 3), (5, 5)]\n",
      "Le chemin de tuile (3, 3)  est  [(3, 3), (5, 3), (5, 5)]\n",
      "Le chemin de tuile (3, 5)  est  [(3, 5), (3, 3), (5, 3), (5, 5)]\n",
      "Le chemin de tuile (3, 7)  est  [(3, 7), (5, 7), (5, 5)]\n",
      "Le chemin de tuile (3, 9)  est  [(3, 9), (5, 9), (5, 7), (5, 5)]\n",
      "Le chemin de tuile (5, 1)  est  [(5, 1), (5, 3), (5, 5)]\n",
      "Le chemin de tuile (5, 3)  est  [(5, 3), (5, 5)]\n",
      "Le chemin de tuile (5, 5)  est  [(5, 5)]\n",
      "Le chemin de tuile (5, 7)  est  [(5, 7), (5, 5)]\n",
      "Le chemin de tuile (5, 9)  est  [(5, 9), (5, 7), (5, 5)]\n"
     ]
    }
   ],
   "source": [
    "resumeImparfait(3)"
   ]
  },
  {
   "cell_type": "code",
   "execution_count": 0,
   "metadata": {
    "collapsed": false
   },
   "outputs": [
   ],
   "source": [
   ]
  },
  {
   "cell_type": "code",
   "execution_count": 0,
   "metadata": {
    "collapsed": false
   },
   "outputs": [
   ],
   "source": [
   ]
  },
  {
   "cell_type": "code",
   "execution_count": 0,
   "metadata": {
    "collapsed": false
   },
   "outputs": [
   ],
   "source": [
   ]
  },
  {
   "cell_type": "code",
   "execution_count": 0,
   "metadata": {
    "collapsed": false
   },
   "outputs": [
   ],
   "source": [
   ]
  },
  {
   "cell_type": "code",
   "execution_count": 0,
   "metadata": {
    "collapsed": false
   },
   "outputs": [
   ],
   "source": [
   ]
  },
  {
   "cell_type": "code",
   "execution_count": 0,
   "metadata": {
    "collapsed": false
   },
   "outputs": [
   ],
   "source": [
   ]
  },
  {
   "cell_type": "code",
   "execution_count": 0,
   "metadata": {
    "collapsed": false
   },
   "outputs": [
   ],
   "source": [
   ]
  },
  {
   "cell_type": "code",
   "execution_count": 0,
   "metadata": {
    "collapsed": false
   },
   "outputs": [
   ],
   "source": [
   ]
  },
  {
   "cell_type": "code",
   "execution_count": 0,
   "metadata": {
    "collapsed": false
   },
   "outputs": [
   ],
   "source": [
   ]
  },
  {
   "cell_type": "code",
   "execution_count": 36,
   "metadata": {
    "collapsed": false
   },
   "outputs": [
    {
     "data": {
      "text/plain": [
       "\"\\nCA n'a rien avoir avec le DM\\n\\n\\n\\n\""
      ]
     },
     "execution_count": 36,
     "metadata": {
     },
     "output_type": "execute_result"
    }
   ],
   "source": [
    "\"\"\"\n",
    "CA n'a rien avoir avec le DM\n",
    "\n",
    "\n",
    "\n",
    "\"\"\""
   ]
  },
  {
   "cell_type": "code",
   "execution_count": 37,
   "metadata": {
    "collapsed": false
   },
   "outputs": [
   ],
   "source": [
    "import math\n",
    "inf = float('inf')"
   ]
  },
  {
   "cell_type": "code",
   "execution_count": 38,
   "metadata": {
    "collapsed": false
   },
   "outputs": [
   ],
   "source": [
    "t=[[0,inf,-2,inf],\n",
    "   [4,0,3,inf],\n",
    "   [inf,inf,0,2],\n",
    "   [inf,-1,inf,0]]"
   ]
  },
  {
   "cell_type": "code",
   "execution_count": 39,
   "metadata": {
    "collapsed": false
   },
   "outputs": [
    {
     "name": "stdout",
     "output_type": "stream",
     "text": [
      "[0, inf, -2, inf]\n",
      "[4, 0, 3, inf]\n",
      "[inf, inf, 0, 2]\n",
      "[inf, -1, inf, 0]\n"
     ]
    }
   ],
   "source": [
    "for i in range(len(t)):\n",
    "    print(t[i])"
   ]
  },
  {
   "cell_type": "code",
   "execution_count": 40,
   "metadata": {
    "collapsed": false
   },
   "outputs": [
   ],
   "source": [
    "#Floyd warshall"
   ]
  },
  {
   "cell_type": "code",
   "execution_count": 41,
   "metadata": {
    "collapsed": false
   },
   "outputs": [
   ],
   "source": [
    "for k in range(4):\n",
    "    for i in range(4):\n",
    "        for j in range(4):\n",
    "            if ( t[i][j]>t[i][k]+t[k][j]):\n",
    "                t[i][j] = t[i][k]+t[k][j]"
   ]
  },
  {
   "cell_type": "code",
   "execution_count": 42,
   "metadata": {
    "collapsed": false
   },
   "outputs": [
   ],
   "source": [
    "def printTx2(t):\n",
    "    for i in range(len(t)):\n",
    "        print(t[i])"
   ]
  },
  {
   "cell_type": "code",
   "execution_count": 43,
   "metadata": {
    "collapsed": false
   },
   "outputs": [
    {
     "name": "stdout",
     "output_type": "stream",
     "text": [
      "[0, -1, -2, 0]\n",
      "[4, 0, 2, 4]\n",
      "[5, 1, 0, 2]\n",
      "[3, -1, 1, 0]\n"
     ]
    }
   ],
   "source": [
    "printTx2(t)"
   ]
  },
  {
   "cell_type": "code",
   "execution_count": 44,
   "metadata": {
    "collapsed": false
   },
   "outputs": [
   ],
   "source": [
    "def FWAlgo( matriceAdj):\n",
    "    t = []\n",
    "    t=matriceAdj\n",
    "    for k in range(len(t)):\n",
    "        for i in range(len(t)):\n",
    "            for j in range(len(t)):\n",
    "                if ( t[i][j]>t[i][k]+t[k][j]):\n",
    "                    t[i][j] = t[i][k]+t[k][j]\n",
    "    return t"
   ]
  },
  {
   "cell_type": "code",
   "execution_count": 45,
   "metadata": {
    "collapsed": false
   },
   "outputs": [
    {
     "name": "stdout",
     "output_type": "stream",
     "text": [
      "[0, -1, -2, 0]\n",
      "[4, 0, 2, 4]\n",
      "[5, 1, 0, 2]\n",
      "[3, -1, 1, 0]\n"
     ]
    }
   ],
   "source": [
    "printTx2(FWAlgo(t))"
   ]
  },
  {
   "cell_type": "code",
   "execution_count": 0,
   "metadata": {
    "collapsed": false
   },
   "outputs": [
   ],
   "source": [
   ]
  }
 ],
 "metadata": {
  "kernelspec": {
   "display_name": "SageMath 8.7",
   "language": "sagemath",
   "metadata": {
    "cocalc": {
     "description": "Open-source mathematical software system",
     "priority": 1,
     "url": "https://www.sagemath.org/"
    }
   },
   "name": "sage-8.7"
  },
  "language_info": {
   "codemirror_mode": {
    "name": "ipython",
    "version": 2
   },
   "file_extension": ".py",
   "mimetype": "text/x-python",
   "name": "python",
   "nbconvert_exporter": "python",
   "pygments_lexer": "ipython2",
   "version": "2.7.15"
  }
 },
 "nbformat": 4,
 "nbformat_minor": 0
}